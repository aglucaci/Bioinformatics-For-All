{
  "nbformat": 4,
  "nbformat_minor": 0,
  "metadata": {
    "colab": {
      "provenance": [],
      "authorship_tag": "ABX9TyPXLoBE0PwKa+LUdRZXj+Yu",
      "include_colab_link": true
    },
    "kernelspec": {
      "name": "ir",
      "display_name": "R"
    },
    "language_info": {
      "name": "R"
    }
  },
  "cells": [
    {
      "cell_type": "markdown",
      "metadata": {
        "id": "view-in-github",
        "colab_type": "text"
      },
      "source": [
        "<a href=\"https://colab.research.google.com/github/aglucaci/Bioinformatics-For-All/blob/master/Bioinformatics_For_All_Introduction_to_R.ipynb\" target=\"_parent\"><img src=\"https://colab.research.google.com/assets/colab-badge.svg\" alt=\"Open In Colab\"/></a>"
      ]
    },
    {
      "cell_type": "markdown",
      "source": [
        "an introductory guide to R, a language and environment for statistical computing and graphics. This introduction covers basic syntax, data types, and a simple example of data analysis.\n",
        "\n",
        "R Basics\n",
        "1. Installation and Setup\n",
        "Installing R: Download and install R from CRAN.\n",
        "IDE: Consider using RStudio, an integrated development environment for R."
      ],
      "metadata": {
        "id": "veeQmc0xAZMS"
      }
    },
    {
      "cell_type": "markdown",
      "source": [
        "2. Basic Syntax and Operations"
      ],
      "metadata": {
        "id": "v1kSwDcrAeB6"
      }
    },
    {
      "cell_type": "code",
      "execution_count": null,
      "metadata": {
        "id": "HBfxsJ7C-KXY"
      },
      "outputs": [],
      "source": [
        "# Comments in R start with a #\n",
        "\n",
        "# Basic arithmetic\n",
        "3 + 4       # Addition\n",
        "5 - 2       # Subtraction\n",
        "4 * 3       # Multiplication\n",
        "10 / 2      # Division\n",
        "2^3         # Exponentiation\n",
        "\n",
        "# Assigning values to variables\n",
        "x <- 5      # Assign 5 to x\n",
        "y <- 10     # Assign 10 to y\n",
        "z <- x + y  # Assign the sum of x and y to z\n",
        "\n",
        "# Printing values\n",
        "print(z)    # Print the value of z\n",
        "z           # Another way to print the value of z\n"
      ]
    },
    {
      "cell_type": "markdown",
      "source": [
        "3. Data Types"
      ],
      "metadata": {
        "id": "Pnpnas3nAfYX"
      }
    },
    {
      "cell_type": "code",
      "source": [
        "# Vectors (1D array)\n",
        "numeric_vector <- c(1.1, 2.2, 3.3)  # Numeric vector\n",
        "char_vector <- c(\"apple\", \"banana\", \"cherry\")  # Character vector\n",
        "logical_vector <- c(TRUE, FALSE, TRUE)  # Logical vector\n",
        "\n",
        "# Sequences\n",
        "seq_1_to_10 <- 1:10  # Sequence from 1 to 10\n",
        "seq_by_2 <- seq(1, 10, by = 2)  # Sequence from 1 to 10 with step 2\n",
        "\n",
        "# Data frames (2D data structure)\n",
        "data <- data.frame(\n",
        "  id = 1:3,\n",
        "  name = c(\"Alice\", \"Bob\", \"Charlie\"),\n",
        "  score = c(85, 92, 78)\n",
        ")\n",
        "\n",
        "# Accessing data frame elements\n",
        "data$name  # Access the 'name' column\n",
        "data[1, ]  # Access the first row\n",
        "data[1, 2]  # Access the element in the first row, second column\n"
      ],
      "metadata": {
        "colab": {
          "base_uri": "https://localhost:8080/",
          "height": 164
        },
        "id": "22eSjSAQ-bo5",
        "outputId": "559de96e-c9ab-4c17-d2fb-922635f5efc8"
      },
      "execution_count": null,
      "outputs": [
        {
          "output_type": "display_data",
          "data": {
            "text/html": [
              "<style>\n",
              ".list-inline {list-style: none; margin:0; padding: 0}\n",
              ".list-inline>li {display: inline-block}\n",
              ".list-inline>li:not(:last-child)::after {content: \"\\00b7\"; padding: 0 .5ex}\n",
              "</style>\n",
              "<ol class=list-inline><li>'Alice'</li><li>'Bob'</li><li>'Charlie'</li></ol>\n"
            ],
            "text/markdown": "1. 'Alice'\n2. 'Bob'\n3. 'Charlie'\n\n\n",
            "text/latex": "\\begin{enumerate*}\n\\item 'Alice'\n\\item 'Bob'\n\\item 'Charlie'\n\\end{enumerate*}\n",
            "text/plain": [
              "[1] \"Alice\"   \"Bob\"     \"Charlie\""
            ]
          },
          "metadata": {}
        },
        {
          "output_type": "display_data",
          "data": {
            "text/html": [
              "<table class=\"dataframe\">\n",
              "<caption>A data.frame: 1 × 3</caption>\n",
              "<thead>\n",
              "\t<tr><th></th><th scope=col>id</th><th scope=col>name</th><th scope=col>score</th></tr>\n",
              "\t<tr><th></th><th scope=col>&lt;int&gt;</th><th scope=col>&lt;chr&gt;</th><th scope=col>&lt;dbl&gt;</th></tr>\n",
              "</thead>\n",
              "<tbody>\n",
              "\t<tr><th scope=row>1</th><td>1</td><td>Alice</td><td>85</td></tr>\n",
              "</tbody>\n",
              "</table>\n"
            ],
            "text/markdown": "\nA data.frame: 1 × 3\n\n| <!--/--> | id &lt;int&gt; | name &lt;chr&gt; | score &lt;dbl&gt; |\n|---|---|---|---|\n| 1 | 1 | Alice | 85 |\n\n",
            "text/latex": "A data.frame: 1 × 3\n\\begin{tabular}{r|lll}\n  & id & name & score\\\\\n  & <int> & <chr> & <dbl>\\\\\n\\hline\n\t1 & 1 & Alice & 85\\\\\n\\end{tabular}\n",
            "text/plain": [
              "  id name  score\n",
              "1 1  Alice 85   "
            ]
          },
          "metadata": {}
        },
        {
          "output_type": "display_data",
          "data": {
            "text/html": [
              "'Alice'"
            ],
            "text/markdown": "'Alice'",
            "text/latex": "'Alice'",
            "text/plain": [
              "[1] \"Alice\""
            ]
          },
          "metadata": {}
        }
      ]
    },
    {
      "cell_type": "markdown",
      "source": [
        "4. Basic Functions"
      ],
      "metadata": {
        "id": "9AofsfD9Ahb8"
      }
    },
    {
      "cell_type": "code",
      "source": [
        "# Sum, mean, and standard deviation\n",
        "sum_values <- sum(c(1, 2, 3, 4, 5))\n",
        "mean_value <- mean(c(1, 2, 3, 4, 5))\n",
        "sd_value <- sd(c(1, 2, 3, 4, 5))\n",
        "\n",
        "# Writing custom functions\n",
        "square <- function(x) {\n",
        "  return(x^2)\n",
        "}\n",
        "\n",
        "square(4)  # Call the function with argument 4\n"
      ],
      "metadata": {
        "colab": {
          "base_uri": "https://localhost:8080/",
          "height": 34
        },
        "id": "r5tdHI9u_EUQ",
        "outputId": "40982946-5134-4d57-df85-bcd52c6ad352"
      },
      "execution_count": null,
      "outputs": [
        {
          "output_type": "display_data",
          "data": {
            "text/html": [
              "16"
            ],
            "text/markdown": "16",
            "text/latex": "16",
            "text/plain": [
              "[1] 16"
            ]
          },
          "metadata": {}
        }
      ]
    },
    {
      "cell_type": "markdown",
      "source": [
        "5. Plotting"
      ],
      "metadata": {
        "id": "UH2gf1haAim0"
      }
    },
    {
      "cell_type": "code",
      "source": [
        "# Basic plotting\n",
        "x <- c(1, 2, 3, 4, 5)\n",
        "y <- c(2, 4, 6, 8, 10)\n",
        "\n",
        "plot(x, y, type = \"o\", col = \"blue\", xlab = \"X Axis\", ylab = \"Y Axis\", main = \"Simple Plot\")\n"
      ],
      "metadata": {
        "colab": {
          "base_uri": "https://localhost:8080/",
          "height": 437
        },
        "id": "OLCxcuUY_HTf",
        "outputId": "5b859fb0-f414-434f-b37a-952fced1fc59"
      },
      "execution_count": null,
      "outputs": [
        {
          "output_type": "display_data",
          "data": {
            "text/plain": [
              "Plot with title “Simple Plot”"
            ],
            "image/png": "[encoded data removed]"
          },
          "metadata": {
            "image/png": {
              "width": 420,
              "height": 420
            }
          }
        }
      ]
    },
    {
      "cell_type": "markdown",
      "source": [
        "6. Packages"
      ],
      "metadata": {
        "id": "71mWMr_HAlUN"
      }
    },
    {
      "cell_type": "code",
      "source": [
        "# Installing and loading packages\n",
        "install.packages(\"ggplot2\")  # Install the ggplot2 package\n",
        "library(ggplot2)  # Load the ggplot2 package\n",
        "\n",
        "# Using ggplot2 for plotting\n",
        "ggplot(data, aes(x = id, y = score)) + geom_point() + geom_line() + ggtitle(\"Scores Plot\")\n"
      ],
      "metadata": {
        "colab": {
          "base_uri": "https://localhost:8080/",
          "height": 489
        },
        "id": "I8cKvElW_JVX",
        "outputId": "78cbf65e-1aff-47b8-9e24-524be1a36527"
      },
      "execution_count": null,
      "outputs": [
        {
          "output_type": "stream",
          "name": "stderr",
          "text": [
            "Installing package into ‘/usr/local/lib/R/site-library’\n",
            "(as ‘lib’ is unspecified)\n",
            "\n"
          ]
        },
        {
          "output_type": "display_data",
          "data": {
            "text/plain": [
              "plot without title"
            ],
            "image/png": "[encoded data removed]"
          },
          "metadata": {
            "image/png": {
              "width": 420,
              "height": 420
            }
          }
        }
      ]
    },
    {
      "cell_type": "code",
      "source": [
        "# Reading data from a CSV file\n",
        "data <- read.csv(\"path/to/your/data.csv\")\n",
        "\n",
        "# Writing data to a CSV file\n",
        "write.csv(data, \"path/to/your/output.csv\")\n"
      ],
      "metadata": {
        "id": "2xMYizYE_Kop"
      },
      "execution_count": null,
      "outputs": []
    },
    {
      "cell_type": "markdown",
      "source": [
        "7. Reading and Writing Data"
      ],
      "metadata": {
        "id": "UGsW0P4hAnA6"
      }
    },
    {
      "cell_type": "code",
      "source": [
        "# Load data\n",
        "data <- data.frame(\n",
        "  name = c(\"Alice\", \"Bob\", \"Charlie\", \"David\"),\n",
        "  age = c(23, 35, 45, 29),\n",
        "  score = c(85, 92, 78, 90)\n",
        ")\n",
        "\n",
        "# Summary statistics\n",
        "summary(data)\n",
        "\n",
        "# Plotting\n",
        "ggplot(data, aes(x = name, y = score)) +\n",
        "  geom_bar(stat = \"identity\") +\n",
        "  ggtitle(\"Scores by Name\") +\n",
        "  xlab(\"Name\") +\n",
        "  ylab(\"Score\")\n"
      ],
      "metadata": {
        "id": "9Fih9n6P_NYj"
      },
      "execution_count": null,
      "outputs": []
    },
    {
      "cell_type": "code",
      "source": [],
      "metadata": {
        "id": "AKP613qdAsrN"
      },
      "execution_count": null,
      "outputs": []
    }
  ]
}