{
  "nbformat": 4,
  "nbformat_minor": 0,
  "metadata": {
    "colab": {
      "provenance": [],
      "authorship_tag": "ABX9TyOSkYgZ3Orn+ck9H0QK+gGr",
      "include_colab_link": true
    },
    "kernelspec": {
      "name": "python3",
      "display_name": "Python 3"
    },
    "language_info": {
      "name": "python"
    }
  },
  "cells": [
    {
      "cell_type": "markdown",
      "metadata": {
        "id": "view-in-github",
        "colab_type": "text"
      },
      "source": [
        "<a href=\"https://colab.research.google.com/github/aglucaci/Bioinformatics-For-All/blob/master/Bioinformatics_For_All_ANOVA.ipynb\" target=\"_parent\"><img src=\"https://colab.research.google.com/assets/colab-badge.svg\" alt=\"Open In Colab\"/></a>"
      ]
    },
    {
      "cell_type": "code",
      "execution_count": null,
      "metadata": {
        "id": "YOzZHhRc9JDA"
      },
      "outputs": [],
      "source": []
    },
    {
      "cell_type": "markdown",
      "source": [
        "### What is ANOVA?\n",
        "\n",
        "**Analysis of Variance (ANOVA)** is a statistical method used to compare the means of three or more groups to determine if there are any statistically significant differences between the means of those groups. ANOVA tests the hypothesis that the means of several populations are equal. It's an extension of the t-test, which compares the means of two groups.\n",
        "\n",
        "### When to Use ANOVA:\n",
        "\n",
        "- **Comparing Multiple Groups:** ANOVA is best used when you have three or more groups or levels of a factor and want to see if there's a significant difference in their means.\n",
        "- **Testing for Differences:** It’s ideal when you want to test for differences among group means while controlling for variability within the groups.\n",
        "- **Assumptions:** ANOVA assumes that the data is normally distributed, the variances among the groups are approximately equal (homogeneity of variances), and the observations are independent.\n",
        "\n",
        "### Types of ANOVA:\n",
        "\n",
        "1. **One-Way ANOVA:** Used when there is one independent variable (factor) with multiple levels (groups).\n",
        "2. **Two-Way ANOVA:** Used when there are two independent variables, which allows you to test the interaction between them.\n",
        "\n",
        "### Python Code for One-Way ANOVA\n",
        "\n",
        "Here’s how to perform a One-Way ANOVA in Python using the `scipy.stats` library:\n",
        "\n",
        "```python\n",
        "import numpy as np\n",
        "import scipy.stats as stats\n",
        "\n",
        "# Example data: test scores from three different teaching methods\n",
        "group1 = [85, 86, 88, 75, 78, 94]\n",
        "group2 = [79, 83, 82, 88, 90, 92]\n",
        "group3 = [91, 92, 89, 95, 96, 99]\n",
        "\n",
        "# Perform One-Way ANOVA\n",
        "f_statistic, p_value = stats.f_oneway(group1, group2, group3)\n",
        "\n",
        "print(f\"F-statistic: {f_statistic}\")\n",
        "print(f\"P-value: {p_value}\")\n",
        "```\n",
        "\n",
        "### Explanation:\n",
        "\n",
        "- **Data Input:** We have three groups, each representing test scores from three different teaching methods.\n",
        "- **`stats.f_oneway()`:** This function from `scipy.stats` performs the One-Way ANOVA. It returns the F-statistic and the p-value.\n",
        "- **Interpretation:**\n",
        "  - **F-statistic:** This tells us how much the group means deviate from the overall mean relative to the variation within the groups.\n",
        "  - **P-value:** If the p-value is below a significance level (e.g., 0.05), we reject the null hypothesis and conclude that there is a statistically significant difference between the group means.\n",
        "\n",
        "### Python Code for Two-Way ANOVA\n",
        "\n",
        "If you have two independent variables, you might use a Two-Way ANOVA. Here’s an example using the `statsmodels` library:\n",
        "\n",
        "```python\n",
        "import pandas as pd\n",
        "import statsmodels.api as sm\n",
        "from statsmodels.formula.api import ols\n",
        "\n",
        "# Example data: Test scores with two factors: teaching method and gender\n",
        "data = pd.DataFrame({\n",
        "    'score': [85, 86, 88, 75, 78, 94, 79, 83, 82, 88, 90, 92, 91, 92, 89, 95, 96, 99],\n",
        "    'method': ['A', 'A', 'A', 'A', 'A', 'A', 'B', 'B', 'B', 'B', 'B', 'B', 'C', 'C', 'C', 'C', 'C', 'C'],\n",
        "    'gender': ['M', 'M', 'F', 'F', 'M', 'F', 'M', 'M', 'F', 'F', 'M', 'F', 'M', 'M', 'F', 'F', 'M', 'F']\n",
        "})\n",
        "\n",
        "# Perform Two-Way ANOVA\n",
        "model = ols('score ~ C(method) + C(gender) + C(method):C(gender)', data=data).fit()\n",
        "anova_table = sm.stats.anova_lm(model, typ=2)\n",
        "\n",
        "print(anova_table)\n",
        "```\n",
        "\n",
        "### Explanation:\n",
        "\n",
        "- **Data Preparation:** We create a DataFrame with test scores, the teaching method, and gender.\n",
        "- **`ols()` Function:** Defines the model. The formula `score ~ C(method) + C(gender) + C(method):C(gender)` specifies that we're interested in the main effects of `method` and `gender`, as well as their interaction.\n",
        "- **`anova_lm()` Function:** Performs the Two-Way ANOVA and returns an ANOVA table.\n",
        "\n",
        "### ANOVA Table Interpretation:\n",
        "\n",
        "- **Sum of Squares (SS):** Measures the total variation in the data.\n",
        "- **Degrees of Freedom (DF):** Number of independent values that can vary.\n",
        "- **F-Statistic:** The ratio of the variance explained by the factor to the unexplained variance.\n",
        "- **P-value:** Determines the significance of the factors. If the p-value is less than the significance level (typically 0.05), the factor has a statistically significant effect.\n",
        "\n",
        "### Summary\n",
        "\n",
        "- **One-Way ANOVA** is used when comparing the means of three or more groups based on one independent variable.\n",
        "- **Two-Way ANOVA** is used when you have two independent variables and want to explore the interaction between them.\n",
        "- **Python Libraries:** `scipy.stats` for One-Way ANOVA and `statsmodels` for more complex ANOVA models like Two-Way ANOVA.\n",
        "- **Interpretation:** A significant p-value (typically < 0.05) indicates that there is a statistically significant difference between the groups.\n",
        "\n",
        "These methods are powerful tools in statistics for comparing group means and understanding the influence of categorical variables on a continuous outcome."
      ],
      "metadata": {
        "id": "M0OpdK3yIINT"
      }
    },
    {
      "cell_type": "code",
      "source": [],
      "metadata": {
        "id": "6beKgaSJIMHC"
      },
      "execution_count": null,
      "outputs": []
    }
  ]
}