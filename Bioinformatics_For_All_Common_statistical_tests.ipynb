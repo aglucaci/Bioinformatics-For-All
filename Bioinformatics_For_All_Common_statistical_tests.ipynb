{
  "nbformat": 4,
  "nbformat_minor": 0,
  "metadata": {
    "colab": {
      "provenance": [],
      "authorship_tag": "ABX9TyPEJUN0sg7d15SxJNlMH3HO",
      "include_colab_link": true
    },
    "kernelspec": {
      "name": "python3",
      "display_name": "Python 3"
    },
    "language_info": {
      "name": "python"
    }
  },
  "cells": [
    {
      "cell_type": "markdown",
      "metadata": {
        "id": "view-in-github",
        "colab_type": "text"
      },
      "source": [
        "<a href=\"https://colab.research.google.com/github/aglucaci/Bioinformatics-For-All/blob/master/Bioinformatics_For_All_Common_statistical_tests.ipynb\" target=\"_parent\"><img src=\"https://colab.research.google.com/assets/colab-badge.svg\" alt=\"Open In Colab\"/></a>"
      ]
    },
    {
      "cell_type": "code",
      "execution_count": null,
      "metadata": {
        "colab": {
          "base_uri": "https://localhost:8080/"
        },
        "id": "SiBZ1zEEJ2SJ",
        "outputId": "f49a8c10-a012-4818-c07d-33186b0826e8"
      },
      "outputs": [
        {
          "output_type": "stream",
          "name": "stdout",
          "text": [
            "Mean: 0.005436865559930527, Median: 0.0028202779724284975, Mode: [-4.08181511], Variance: 1.0297581626106909, Std Dev: 1.0147700047846757\n"
          ]
        }
      ],
      "source": [
        "import numpy as np\n",
        "import scipy.stats as stats\n",
        "\n",
        "data = np.random.randn(10000)  # Sample data\n",
        "\n",
        "mean = np.mean(data)\n",
        "median = np.median(data)\n",
        "mode = stats.mode(data, keepdims=True)[0]\n",
        "variance = np.var(data)\n",
        "std_dev = np.std(data)\n",
        "\n",
        "print(f\"Mean: {mean}, Median: {median}, Mode: {mode}, Variance: {variance}, Std Dev: {std_dev}\")\n"
      ]
    },
    {
      "cell_type": "code",
      "source": [
        "#!pip install pymc3"
      ],
      "metadata": {
        "id": "0tTcOdw4Keqs"
      },
      "execution_count": null,
      "outputs": []
    },
    {
      "cell_type": "code",
      "source": [
        "\"\"\"\n",
        "# Common Statistical Tests in Python\n",
        "\n",
        "This script performs various statistical tests using `numpy`, `scipy.stats`, and `statsmodels`.\n",
        "It includes descriptive statistics, normality tests, t-tests, ANOVA, non-parametric tests,\n",
        "correlation tests, chi-square tests, regression analysis, Bayesian inference, and bootstrapping.\n",
        "\"\"\"\n",
        "\n",
        "import numpy as np\n",
        "import scipy.stats as stats\n",
        "import statsmodels.api as sm\n",
        "#import pymc3 as pm\n",
        "import matplotlib.pyplot as plt\n",
        "\n",
        "# \"\"\"\n",
        "# ## 1. Descriptive Statistics\n",
        "# Compute mean, median, mode, variance, and standard deviation.\n",
        "# \"\"\"\n",
        "\n",
        "# New data\n",
        "data = np.random.randn(100)\n",
        "\n",
        "\n",
        "print(\"Mean:\", np.mean(data))\n",
        "print(\"Median:\", np.median(data))\n",
        "print(\"Mode:\", stats.mode(data, keepdims=True)[0])\n",
        "print(\"Variance:\", np.var(data))\n",
        "print(\"Standard Deviation:\", np.std(data))\n",
        "\n",
        "# \"\"\"\n",
        "# ## 2. Normality Tests\n",
        "# \"\"\"\n",
        "# Shapiro-Wilk Test\n",
        "shapiro_stat, shapiro_p = stats.shapiro(data)\n",
        "print(\"Shapiro-Wilk Test: p-value:\", shapiro_p)\n",
        "\n",
        "# Kolmogorov-Smirnov Test\n",
        "ks_stat, ks_p = stats.kstest(data, 'norm')\n",
        "print(\"KS Test: p-value:\", ks_p)\n",
        "\n",
        "# \"\"\"\n",
        "# ## 3. T-Tests\n",
        "# \"\"\"\n",
        "# One-sample t-test\n",
        "t_stat, t_p = stats.ttest_1samp(data, 0)\n",
        "print(\"One-Sample T-test: p-value:\", t_p)\n",
        "\n",
        "# Independent (Unpaired) t-test\n",
        "group1, group2 = np.random.randn(50), np.random.randn(50) + 0.5\n",
        "t_stat_ind, t_p_ind = stats.ttest_ind(group1, group2)\n",
        "print(\"Independent T-test: p-value:\", t_p_ind)\n",
        "\n",
        "# Paired (Dependent) t-test\n",
        "before, after = np.random.randn(30), np.random.randn(30) + np.random.randn(30) * 0.1\n",
        "t_stat_rel, t_p_rel = stats.ttest_rel(before, after)\n",
        "print(\"Paired T-test: p-value:\", t_p_rel)\n",
        "\n",
        "# \"\"\"\n",
        "# ## 4. ANOVA (Comparison of 3+ Groups)\n",
        "# \"\"\"\n",
        "group3 = np.random.randn(50) - 0.5\n",
        "anova_stat, anova_p = stats.f_oneway(group1, group2, group3)\n",
        "print(\"ANOVA: p-value:\", anova_p)\n",
        "\n",
        "# \"\"\"\n",
        "# ## 5. Non-Parametric Tests\n",
        "# \"\"\"\n",
        "# Mann-Whitney U Test\n",
        "mw_stat, mw_p = stats.mannwhitneyu(group1, group2)\n",
        "print(\"Mann-Whitney U Test: p-value:\", mw_p)\n",
        "\n",
        "# Wilcoxon Signed-Rank Test\n",
        "w_stat, w_p = stats.wilcoxon(before, after)\n",
        "print(\"Wilcoxon Test: p-value:\", w_p)\n",
        "\n",
        "# Kruskal-Wallis Test\n",
        "kw_stat, kw_p = stats.kruskal(group1, group2, group3)\n",
        "print(\"Kruskal-Wallis Test: p-value:\", kw_p)\n",
        "\n",
        "# \"\"\"\n",
        "# ## 6. Correlation Analysis\n",
        "# \"\"\"\n",
        "x, y = np.random.randn(100), np.random.randn(100) + 0.5\n",
        "print(\"Pearson Correlation:\", stats.pearsonr(x, y))\n",
        "print(\"Spearman Correlation:\", stats.spearmanr(x, y))\n",
        "\n",
        "# \"\"\"\n",
        "# ## 7. Chi-Square Tests\n",
        "# \"\"\"\n",
        "observed = np.array([30, 14, 34, 22])\n",
        "expected = np.array([25, 25, 25, 25])\n",
        "chi_stat, chi_p = stats.chisquare(observed, expected)\n",
        "print(\"Chi-Square Goodness of Fit: p-value:\", chi_p)\n",
        "\n",
        "# Chi-Square Test for Independence\n",
        "table = np.array([[10, 20, 30], [6, 9, 17]])\n",
        "chi2_stat, chi2_p, _, _ = stats.chi2_contingency(table)\n",
        "print(\"Chi-Square Test for Independence: p-value:\", chi2_p)\n",
        "\n",
        "# \"\"\"\n",
        "# ## 8. Regression Analysis\n",
        "# \"\"\"\n",
        "X = np.random.randn(100)\n",
        "Y = 2*X + np.random.randn(100) * 0.5\n",
        "X = sm.add_constant(X)\n",
        "model = sm.OLS(Y, X).fit()\n",
        "print(model.summary())\n",
        "\n",
        "# \"\"\"\n",
        "# ## 9. Bayesian A/B Testing (Two-Proportion Test)\n",
        "# \"\"\"\n",
        "#with pm.Model():\n",
        "#    p1, p2 = pm.Beta(\"p1\", 1, 1), pm.Beta(\"p2\", 1, 1)\n",
        "#    trace = pm.sample(1000, return_inferencedata=True)\n",
        "#pm.plot_posterior(trace)\n",
        "#plt.show()\n",
        "\n",
        "# \"\"\"\n",
        "# ## 10. Bootstrapping (For Confidence Intervals)\n",
        "# \"\"\"\n",
        "def bootstrap_mean(data, n_bootstrap=1000):\n",
        "    means = [np.mean(np.random.choice(data, size=len(data), replace=True)) for _ in range(n_bootstrap)]\n",
        "    return np.percentile(means, [2.5, 97.5])\n",
        "\n",
        "#ci = bootstrap_mean(data)\n",
        "#print(\"Bootstrap 95% Confidence Interval:\", ci)"
      ],
      "metadata": {
        "colab": {
          "base_uri": "https://localhost:8080/"
        },
        "id": "pl0XDFEPJ8QC",
        "outputId": "1a35405b-0f5e-4336-d780-1b3764282e6f"
      },
      "execution_count": null,
      "outputs": [
        {
          "output_type": "stream",
          "name": "stdout",
          "text": [
            "Mean: -0.08103005930446333\n",
            "Median: 0.006438416656661483\n",
            "Mode: [-2.37468441]\n",
            "Variance: 0.8494151217318198\n",
            "Standard Deviation: 0.9216371963694932\n",
            "Shapiro-Wilk Test: p-value: 0.7639485254264737\n",
            "KS Test: p-value: 0.6499116387686261\n",
            "One-Sample T-test: p-value: 0.38380555667534055\n",
            "Independent T-test: p-value: 0.7283313818701433\n",
            "Paired T-test: p-value: 0.06995404469981129\n",
            "ANOVA: p-value: 0.0002913141945740584\n",
            "Mann-Whitney U Test: p-value: 0.8442392855727232\n",
            "Wilcoxon Test: p-value: 0.1459994912147522\n",
            "Kruskal-Wallis Test: p-value: 0.0007539552940358881\n",
            "Pearson Correlation: PearsonRResult(statistic=np.float64(-0.08469182607970105), pvalue=np.float64(0.40215595981383695))\n",
            "Spearman Correlation: SignificanceResult(statistic=np.float64(-0.11908790879087908), pvalue=np.float64(0.23795578993145822))\n",
            "Chi-Square Goodness of Fit: p-value: 0.023978301316485748\n",
            "Chi-Square Test for Independence: p-value: 0.873028283380073\n",
            "                            OLS Regression Results                            \n",
            "==============================================================================\n",
            "Dep. Variable:                      y   R-squared:                       0.926\n",
            "Model:                            OLS   Adj. R-squared:                  0.926\n",
            "Method:                 Least Squares   F-statistic:                     1231.\n",
            "Date:                Fri, 06 Jun 2025   Prob (F-statistic):           2.70e-57\n",
            "Time:                        16:29:37   Log-Likelihood:                -76.929\n",
            "No. Observations:                 100   AIC:                             157.9\n",
            "Df Residuals:                      98   BIC:                             163.1\n",
            "Df Model:                           1                                         \n",
            "Covariance Type:            nonrobust                                         \n",
            "==============================================================================\n",
            "                 coef    std err          t      P>|t|      [0.025      0.975]\n",
            "------------------------------------------------------------------------------\n",
            "const          0.0314      0.053      0.596      0.553      -0.073       0.136\n",
            "x1             1.9454      0.055     35.092      0.000       1.835       2.055\n",
            "==============================================================================\n",
            "Omnibus:                        0.655   Durbin-Watson:                   1.653\n",
            "Prob(Omnibus):                  0.721   Jarque-Bera (JB):                0.772\n",
            "Skew:                          -0.099   Prob(JB):                        0.680\n",
            "Kurtosis:                       2.618   Cond. No.                         1.06\n",
            "==============================================================================\n",
            "\n",
            "Notes:\n",
            "[1] Standard Errors assume that the covariance matrix of the errors is correctly specified.\n"
          ]
        }
      ]
    },
    {
      "cell_type": "code",
      "source": [],
      "metadata": {
        "id": "xZ46Px-PKbO9"
      },
      "execution_count": null,
      "outputs": []
    }
  ]
}